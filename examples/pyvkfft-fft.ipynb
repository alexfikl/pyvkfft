{
 "cells": [
  {
   "cell_type": "markdown",
   "id": "14a7b1ad",
   "metadata": {},
   "source": [
    "# Example use of the pyvkfft.fft interface\n",
    "Using this interface, the explicit VkFFTApp (a.k.a. the fft 'plan') creation\n",
    "is not necessary, they are automatically created and cached for future\n",
    "re-use.\n",
    "\n",
    "Also, the appropriate backend for a pycuda/pyopencl or cupy array is automatically selected."
   ]
  },
  {
   "cell_type": "code",
   "execution_count": null,
   "id": "9fb421fb",
   "metadata": {},
   "outputs": [],
   "source": [
    "# Use the following to install pyvkfft on google colab\n",
    "if False:\n",
    "    # Install pyvkfft & dependencies only once using pip\n",
    "    import os\n",
    "    if not os.path.exists('dev/pyvkfft'):\n",
    "      !mkdir dev\n",
    "      !cd dev && git clone https://github.com/DTolm/VkFFT.git\n",
    "      !cd dev && git clone https://github.com/vincefn/pyvkfft.git\n",
    "      !cp dev/VkFFT/vkFFT/vkFFT.h /usr/local/include/\n",
    "      !pip install pycuda\n",
    "      # !pip install cupy\n",
    "      !cd dev/pyvkfft && pip install ./\n",
    "      # scipy, matplotlib not required for pyvkfft, but for tests\n",
    "      !pip install scipy matplotlib"
   ]
  },
  {
   "cell_type": "code",
   "execution_count": null,
   "id": "0a456c52",
   "metadata": {},
   "outputs": [],
   "source": [
    "from pyvkfft.fft import fftn, ifftn, rfftn, irfftn\n",
    "\n",
    "import numpy as np\n",
    "from scipy.misc import ascent\n",
    "from numpy.fft import fftshift\n",
    "%matplotlib notebook\n",
    "import matplotlib.pyplot as plt\n",
    "from matplotlib.colors import LogNorm"
   ]
  },
  {
   "cell_type": "markdown",
   "id": "d62e81df",
   "metadata": {},
   "source": [
    "## Test functions\n",
    "These only use the `fftn`, `ifftn`, `rfftn` and `irfftn` functions,\n",
    "which will automatically detect the type of GPU array, and cache\n",
    "the generated VkFFTApp."
   ]
  },
  {
   "cell_type": "code",
   "execution_count": null,
   "id": "e93be198",
   "metadata": {},
   "outputs": [],
   "source": [
    "def do_fft_and_plot(d):\n",
    "    plt.figure(figsize=(9,3))\n",
    "    \n",
    "    plt.subplot(131)\n",
    "    plt.imshow(abs(d.get()))\n",
    "    plt.colorbar()\n",
    "    \n",
    "    d = fftn(d,norm=\"ortho\")  # Use fftn(d,d) for an inplace transform\n",
    "\n",
    "    plt.subplot(132)\n",
    "    plt.imshow(fftshift(abs(d.get())), norm=LogNorm())\n",
    "    plt.colorbar()\n",
    "\n",
    "    d = ifftn(d,norm=\"ortho\")  # Use fftn(d,d) for an inplace transform\n",
    "\n",
    "    plt.subplot(133)\n",
    "    plt.imshow(abs(d.get()))\n",
    "    plt.colorbar()\n",
    "    plt.tight_layout()\n",
    "\n",
    "def do_rfft_and_plot(dr, dc=None):\n",
    "    # if dc is None, the transform is out-of-place and the destination\n",
    "    # array is allocated on-the-fly\n",
    "    plt.figure(figsize=(9,3))\n",
    "\n",
    "    plt.subplot(131)\n",
    "    plt.imshow(abs(d.get()))\n",
    "    plt.colorbar()\n",
    "\n",
    "    dc = rfftn(dr, dc,norm=\"ortho\")\n",
    "\n",
    "    plt.subplot(132)\n",
    "    plt.imshow(fftshift(abs(dc.get()), axes=[0]), norm=LogNorm())\n",
    "    plt.colorbar()\n",
    "\n",
    "    dr = irfftn(dc, dr,norm=\"ortho\")\n",
    "\n",
    "    plt.subplot(133)\n",
    "    plt.imshow(abs(dr.get()))\n",
    "    plt.colorbar()\n",
    "    plt.tight_layout()\n",
    "        \n"
   ]
  },
  {
   "cell_type": "markdown",
   "id": "6e0ba5b3",
   "metadata": {},
   "source": [
    "## PyCUDA"
   ]
  },
  {
   "cell_type": "code",
   "execution_count": null,
   "id": "e9be4714",
   "metadata": {},
   "outputs": [],
   "source": [
    "try:\n",
    "    import pycuda.autoinit\n",
    "    import pycuda.gpuarray as cua\n",
    "    has_pycuda = True\n",
    "except:\n",
    "    has_pycuda = False\n",
    "\n",
    "if has_pycuda:\n",
    "    print(\"C2C transform\")\n",
    "    d = cua.to_gpu(ascent().astype(np.complex64))\n",
    "    do_fft_and_plot(d)\n",
    "    \n",
    "    print(\"R2C transform, out-of-place in auto-allocated array\")\n",
    "    d = cua.to_gpu(ascent().astype(np.float32))\n",
    "    do_rfft_and_plot(d)\n",
    "    \n",
    "    print(\"R2C transform, out-of-place\")\n",
    "    dr = cua.to_gpu(ascent().astype(np.float32))\n",
    "    sh = (dr.shape[0], dr.shape[1]//2+1)\n",
    "    dc = cua.empty(sh, dtype=np.complex64)\n",
    "    do_rfft_and_plot(dr, dc)\n",
    "\n",
    "    print(\"R2C transform, inplace\")\n",
    "    dr = cua.to_gpu(ascent().astype(np.float32))\n",
    "    do_rfft_and_plot(dr, dr)\n",
    "else:\n",
    "    print(\"PyCUDA is not available\")"
   ]
  },
  {
   "cell_type": "markdown",
   "id": "b8dc0b66",
   "metadata": {},
   "source": [
    "## CuPy"
   ]
  },
  {
   "cell_type": "code",
   "execution_count": null,
   "id": "75668902",
   "metadata": {},
   "outputs": [],
   "source": [
    "try:\n",
    "    import cupy as cp\n",
    "    has_cupy = True\n",
    "except:\n",
    "    has_cupy = False\n",
    "\n",
    "if has_cupy:\n",
    "    print(\"C2C transform\")\n",
    "    d = cp.array(ascent().astype(np.complex64))\n",
    "    do_fft_and_plot(d)\n",
    "    \n",
    "    print(\"R2C transform, out-of-place in auto-allocated array\")\n",
    "    d = cp.array(ascent().astype(np.float32))\n",
    "    do_rfft_and_plot(d)\n",
    "    \n",
    "    print(\"R2C transform, out-of-place\")\n",
    "    dr = cp.array(ascent().astype(np.float32))\n",
    "    sh = (dr.shape[0], dr.shape[1]//2+1)\n",
    "    dc = cp.empty(sh, dtype=np.complex64)\n",
    "    do_rfft_and_plot(dr, dc)\n",
    "\n",
    "    print(\"R2C transform, inplace\")\n",
    "    dr = cp.array(ascent().astype(np.float32))\n",
    "    do_rfft_and_plot(dr, dr)\n",
    "else:\n",
    "    print(\"CuPy is not available\")"
   ]
  },
  {
   "cell_type": "markdown",
   "id": "56cb1e21",
   "metadata": {},
   "source": [
    "## PyOpenCL"
   ]
  },
  {
   "cell_type": "code",
   "execution_count": null,
   "id": "87803da6",
   "metadata": {},
   "outputs": [],
   "source": [
    "try:\n",
    "    import pyopencl as cl\n",
    "    import pyopencl.array as cla\n",
    "    import os\n",
    "    \n",
    "    # Create some context on the first available GPU\n",
    "    if 'PYOPENCL_CTX' in os.environ:\n",
    "        ctx = cl.create_some_context()\n",
    "    else:\n",
    "        ctx = None\n",
    "        # Find the first OpenCL GPU available and use it, unless\n",
    "        for p in cl.get_platforms():\n",
    "            for d in p.get_devices():\n",
    "                if d.type & cl.device_type.GPU == 0:\n",
    "                    continue\n",
    "                print(\"Selected device: \", d.name)\n",
    "                ctx = cl.Context(devices=(d,))\n",
    "                break\n",
    "            if ctx is not None:\n",
    "                break\n",
    "    cq = cl.CommandQueue(ctx)\n",
    "\n",
    "    has_pyopencl = True\n",
    "except:\n",
    "    has_pyopencl = False\n",
    "\n",
    "if has_pyopencl:\n",
    "    print(\"C2C transform\")\n",
    "    d = cla.to_device(cq, ascent().astype(np.complex64))\n",
    "    do_fft_and_plot(d)\n",
    "    \n",
    "    print(\"R2C transform, out-of-place in auto-allocated array\")\n",
    "    d = cla.to_device(cq, ascent().astype(np.float32))\n",
    "    do_rfft_and_plot(d)\n",
    "    \n",
    "    print(\"R2C transform, out-of-place\")\n",
    "    dr = cla.to_device(cq, ascent().astype(np.float32))\n",
    "    sh = (dr.shape[0], dr.shape[1]//2+1)\n",
    "    dc = cla.empty(cq, sh, dtype=np.complex64)\n",
    "    do_rfft_and_plot(dr, dc)\n",
    "    \n",
    "    print(\"R2C transform, inplace\")\n",
    "    dr = cla.to_device(cq, ascent().astype(np.float32))\n",
    "    do_rfft_and_plot(dr, dr)\n",
    "else:\n",
    "    print(\"PyOpenCL is not available\")"
   ]
  },
  {
   "cell_type": "code",
   "execution_count": null,
   "id": "9c1b90de",
   "metadata": {},
   "outputs": [],
   "source": []
  }
 ],
 "metadata": {
  "kernelspec": {
   "display_name": "Python 3 (ipykernel)",
   "language": "python",
   "name": "python3"
  },
  "language_info": {
   "codemirror_mode": {
    "name": "ipython",
    "version": 3
   },
   "file_extension": ".py",
   "mimetype": "text/x-python",
   "name": "python",
   "nbconvert_exporter": "python",
   "pygments_lexer": "ipython3",
   "version": "3.8.6"
  }
 },
 "nbformat": 4,
 "nbformat_minor": 5
}
